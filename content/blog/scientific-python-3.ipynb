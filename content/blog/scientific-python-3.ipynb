{
 "cells": [
  {
   "cell_type": "markdown",
   "metadata": {},
   "source": [
    "In this example, we explore how evolution models can be implemented efficiently. An example of an evolution model is given in [Botero et al., 2015](http://www.pnas.org/content/112/1/184.full), but many are found throughout literature. In those models, some individuals (in this example animals) form a population, and each individual randomly adjusts its genome (i.e., mutates). Depending on how well the individuals fit into their environment, they produce more or less offspring, thus altering the composition of the population (survival of the fittest).\n",
    "\n",
    "In this simple example, the fitness of the individuals will just depend on the distance of their genome to some perfect state, and the population size is held constant by cloning / killing random animals."
   ]
  },
  {
   "cell_type": "code",
   "execution_count": 1,
   "metadata": {
    "collapsed": false
   },
   "outputs": [],
   "source": [
    "%matplotlib inline\n",
    "%load_ext cython\n",
    "import numpy as np\n",
    "import matplotlib.pyplot as plt\n",
    "import pandas as pd\n",
    "import seaborn as sns\n",
    "sns.set(\"talk\")"
   ]
  },
  {
   "cell_type": "markdown",
   "metadata": {},
   "source": [
    "### Naive Python implementation"
   ]
  },
  {
   "cell_type": "markdown",
   "metadata": {},
   "source": [
    "This implementation uses two classes, one for the animals, and one for the population. During one time step, each animal mutates five times, then it reproduces. The fitness has the shape of a Gaussian around an optimal value $i=10$."
   ]
  },
  {
   "cell_type": "code",
   "execution_count": 2,
   "metadata": {
    "collapsed": true
   },
   "outputs": [],
   "source": [
    "class PyAnimal:\n",
    "    def __init__(self,initial=0):\n",
    "        self.i = initial\n",
    "    def mutate(self):\n",
    "        self.i += np.random.randn()\n",
    "    def fitness(self):\n",
    "        return np.exp(-(self.i-10)**2)\n",
    "    def state(self):\n",
    "        return self.i\n",
    "    \n",
    "class PyPopulation:\n",
    "    def __init__(self,animals):\n",
    "        self.animals = animals\n",
    "        \n",
    "    def do_step(self):\n",
    "        for animal in self.animals:\n",
    "            for _ in range(5):\n",
    "                animal.mutate()\n",
    "        fitnesses = [a.fitness() for a in self.animals]\n",
    "        offspring = np.random.poisson(fitnesses / np.mean(fitnesses))\n",
    "        born_animals = [PyAnimal(a.state()) for a in np.repeat(self.animals, offspring)]\n",
    "        if len(born_animals) > len(self.animals):\n",
    "            born_animals = np.random.choice(born_animals,len(self.animals)).tolist()\n",
    "        else:\n",
    "            clones = np.random.choice(born_animals,len(self.animals) - len(born_animals))\n",
    "            born_animals = born_animals + [PyAnimal(a.state()) for a in clones]\n",
    "        self.animals = born_animals\n",
    "        \n",
    "    def state(self):\n",
    "        return [a.state() for a in self.animals]"
   ]
  },
  {
   "cell_type": "markdown",
   "metadata": {},
   "source": [
    "Let's check the performance and the resulting distribution of genes:"
   ]
  },
  {
   "cell_type": "code",
   "execution_count": 3,
   "metadata": {
    "collapsed": false
   },
   "outputs": [
    {
     "name": "stdout",
     "output_type": "stream",
     "text": [
      "1 loop, best of 3: 1.04 s per loop\n"
     ]
    },
    {
     "data": {
      "image/png": "[encoded data removed]",
      "text/plain": [
       "<matplotlib.figure.Figure at 0x7f023803c890>"
      ]
     },
     "metadata": {},
     "output_type": "display_data"
    }
   ],
   "source": [
    "animals = [PyAnimal() for i in range(100000)]\n",
    "population = PyPopulation(animals)\n",
    "%timeit population.do_step()\n",
    "plt.hist(population.state());"
   ]
  },
  {
   "cell_type": "code",
   "execution_count": 4,
   "metadata": {
    "collapsed": false
   },
   "outputs": [
    {
     "name": "stdout",
     "output_type": "stream",
     "text": [
      " \n",
      "*** Profile printout saved to text file u'profile'. \n",
      "         1400043 function calls in 2.175 seconds\n",
      "\n",
      "   Ordered by: internal time\n",
      "   List reduced from 32 to 10 due to restriction <10>\n",
      "\n",
      "   ncalls  tottime  percall  cumtime  percall filename:lineno(function)\n",
      "        1    0.724    0.724    2.174    2.174 <ipython-input-2-b4af97439b11>:15(do_step)\n",
      "   500000    0.386    0.000    0.588    0.000 <ipython-input-2-b4af97439b11>:4(mutate)\n",
      "   100000    0.377    0.000    0.377    0.000 <ipython-input-2-b4af97439b11>:6(fitness)\n",
      "        4    0.230    0.058    0.230    0.058 {numpy.core.multiarray.array}\n",
      "   500000    0.203    0.000    0.203    0.000 {method 'randn' of 'mtrand.RandomState' objects}\n",
      "        1    0.146    0.146    0.146    0.146 {method 'choice' of 'mtrand.RandomState' objects}\n",
      "   100001    0.048    0.000    0.048    0.000 {range}\n",
      "   100000    0.023    0.000    0.023    0.000 <ipython-input-2-b4af97439b11>:2(__init__)\n",
      "   100000    0.019    0.000    0.019    0.000 <ipython-input-2-b4af97439b11>:8(state)\n",
      "        1    0.012    0.012    0.013    0.013 {method 'poisson' of 'mtrand.RandomState' objects}\n"
     ]
    }
   ],
   "source": [
    "%prun -l 10 -q -T profile population.do_step()\n",
    "with open(\"profile\",\"r\") as f:\n",
    "    print(f.read())"
   ]
  },
  {
   "cell_type": "markdown",
   "metadata": {},
   "source": [
    "The implementation seems to work (the resulting distribution is centered around 10), but it is quite slow. Profiling the code reveals that most of the time is spent directly in the `do_step`, `mutate` and `fitness` functions, while the NumPy functions only play a minor roll. It thus seems like the slow runtime is mainly caused by the overhead when creating and accessing the class members or calling class methods."
   ]
  },
  {
   "cell_type": "markdown",
   "metadata": {},
   "source": [
    "### Cython implementation"
   ]
  },
  {
   "cell_type": "markdown",
   "metadata": {},
   "source": [
    "Since member access is much faster in Cython, it seems obvious to try and cythonize the Python implementation. A first iteration may look like this:"
   ]
  },
  {
   "cell_type": "code",
   "execution_count": 5,
   "metadata": {
    "collapsed": false
   },
   "outputs": [],
   "source": [
    "%%cython -c=-O3\n",
    "# cython: profile=True\n",
    "\n",
    "import numpy as np\n",
    "cimport numpy as np\n",
    "\n",
    "cdef class CyAnimal:\n",
    "    cdef double i\n",
    "    \n",
    "    def __init__(self, double initial=0):\n",
    "        self.i = initial\n",
    "    cpdef void mutate(self):\n",
    "        self.i += np.random.randn()\n",
    "    cpdef double fitness(self):\n",
    "        return np.exp(-(self.i-10)**2)\n",
    "    cpdef double state(self):\n",
    "        return self.i\n",
    "\n",
    "cdef class CyPopulation:\n",
    "    cdef list animals\n",
    "    \n",
    "    def __init__(self,list animals):\n",
    "        self.animals = animals\n",
    "        \n",
    "    cpdef void do_step(self):\n",
    "        cdef list fitnesses, offspring, born_animals, clones\n",
    "        \n",
    "        for animal in self.animals:\n",
    "            for _ in range(5):\n",
    "                animal.mutate()\n",
    "        fitnesses = [a.fitness() for a in self.animals]\n",
    "        offspring = np.random.poisson(fitnesses / np.mean(fitnesses)).tolist()\n",
    "        born_animals = [CyAnimal(a.state()) for a in np.repeat(self.animals, offspring)]\n",
    "        if len(born_animals) > len(self.animals):\n",
    "            born_animals = np.random.choice(born_animals,len(self.animals)).tolist()\n",
    "        else:\n",
    "            clones = np.random.choice(born_animals,len(self.animals) - len(born_animals)).tolist()\n",
    "            born_animals = born_animals + [CyAnimal(a.state()) for a in clones]\n",
    "        self.animals = born_animals\n",
    "            \n",
    "    cpdef list state(self):\n",
    "        return [animal.state() for animal in self.animals]"
   ]
  },
  {
   "cell_type": "code",
   "execution_count": 6,
   "metadata": {
    "collapsed": false
   },
   "outputs": [
    {
     "name": "stdout",
     "output_type": "stream",
     "text": [
      "1 loop, best of 3: 548 ms per loop\n",
      "100000\n"
     ]
    },
    {
     "data": {
      "image/png": "[encoded data removed]",
      "text/plain": [
       "<matplotlib.figure.Figure at 0x7f0233520190>"
      ]
     },
     "metadata": {},
     "output_type": "display_data"
    }
   ],
   "source": [
    "animals = [CyAnimal() for i in range(100000)]\n",
    "population = CyPopulation(animals)\n",
    "%timeit population.do_step()\n",
    "plt.hist(population.state())\n",
    "print(len(population.state()))"
   ]
  },
  {
   "cell_type": "code",
   "execution_count": 7,
   "metadata": {
    "collapsed": false
   },
   "outputs": [
    {
     "name": "stdout",
     "output_type": "stream",
     "text": [
      " \n",
      "*** Profile printout saved to text file u'profile'. \n",
      "         1500037 function calls in 0.945 seconds\n",
      "\n",
      "   Ordered by: internal time\n",
      "   List reduced from 32 to 10 due to restriction <10>\n",
      "\n",
      "   ncalls  tottime  percall  cumtime  percall filename:lineno(function)\n",
      "        1    0.316    0.316    0.945    0.945 _cython_magic_d5f1817b235c360a3ecaa1c007dbe625.pyx:24(do_step)\n",
      "   500000    0.187    0.000    0.187    0.000 _cython_magic_d5f1817b235c360a3ecaa1c007dbe625.pyx:11(mutate)\n",
      "   100000    0.155    0.000    0.155    0.000 _cython_magic_d5f1817b235c360a3ecaa1c007dbe625.pyx:13(fitness)\n",
      "   500000    0.114    0.000    0.301    0.000 _cython_magic_d5f1817b235c360a3ecaa1c007dbe625.pyx:11(mutate (wrapper))\n",
      "        4    0.109    0.027    0.109    0.027 {numpy.core.multiarray.array}\n",
      "   100000    0.024    0.000    0.178    0.000 _cython_magic_d5f1817b235c360a3ecaa1c007dbe625.pyx:13(fitness (wrapper))\n",
      "   100000    0.020    0.000    0.025    0.000 _cython_magic_d5f1817b235c360a3ecaa1c007dbe625.pyx:15(state (wrapper))\n",
      "        1    0.008    0.008    0.008    0.008 {method 'repeat' of 'numpy.ndarray' objects}\n",
      "   100000    0.007    0.000    0.007    0.000 _cython_magic_d5f1817b235c360a3ecaa1c007dbe625.pyx:9(__init__)\n",
      "   100000    0.006    0.000    0.006    0.000 _cython_magic_d5f1817b235c360a3ecaa1c007dbe625.pyx:15(state)\n"
     ]
    }
   ],
   "source": [
    "%prun -l 10 -q -T profile population.do_step()\n",
    "with open(\"profile\",\"r\") as f:\n",
    "    print(f.read())"
   ]
  },
  {
   "cell_type": "markdown",
   "metadata": {},
   "source": [
    "So, just by adding a few types we gain about double the performance, which is alright, but not really mind-blowing. Also, it seems like the performance bottleneck in `mutate` and `fitness` is still present (there are still lots of Python interactions). How can we eliminate this? One solution is to implement the animal class in pure C++ and interface it through Cython."
   ]
  },
  {
   "cell_type": "markdown",
   "metadata": {},
   "source": [
    "### C++ Wrapper"
   ]
  },
  {
   "cell_type": "markdown",
   "metadata": {},
   "source": [
    "Since the animals are now implemented in C++, we cannot use the NumPy functions anymore to create random numbers, but the C++ standard library provides random number generators anyway. Just make sure to set a different random seed for every animal (otherwise your whole population will evolve into the same direction)."
   ]
  },
  {
   "cell_type": "code",
   "execution_count": 8,
   "metadata": {
    "collapsed": false
   },
   "outputs": [
    {
     "name": "stdout",
     "output_type": "stream",
     "text": [
      "Writing cppanimal.h\n"
     ]
    }
   ],
   "source": [
    "%%writefile cppanimal.h\n",
    "#include <math.h>\n",
    "#include <random>\n",
    "\n",
    "class CppAnimal {\n",
    "    private:\n",
    "        std::default_random_engine generator;\n",
    "        std::normal_distribution<double> distribution;\n",
    "        double i;\n",
    "    public:\n",
    "        CppAnimal(double initial):i(initial), generator(std::rand()), \n",
    "                  distribution(0.0,1.0) {}\n",
    "        void mutate() {i += distribution(generator);}\n",
    "        double fitness() {return exp(-pow(i-10,2));}\n",
    "        double state() {return i;}\n",
    "};"
   ]
  },
  {
   "cell_type": "markdown",
   "metadata": {},
   "source": [
    "The class CppAnimal from the external file cppanimal.h can then be interfaced using the `extern` keyword from Cython. You just need to specify which functions should be interfaced to Python. Also note the different compiler flags (`-+` to enable C++, and `-I .` to tell the compiler that it should look in the current directory for `cppanimal.h`).\n",
    "\n",
    "Since `CppAnimal` is implemented in pure C++, we cannot put it into a Python list without wrapping it. Instead, we use a C++ `vector` to contain the animals, which enables us to loop over the animals in C-speed. However, this makes the animals inaccessible from Python, so we need to provide a new Cython method `create_animal`."
   ]
  },
  {
   "cell_type": "code",
   "execution_count": 9,
   "metadata": {
    "collapsed": false
   },
   "outputs": [],
   "source": [
    "%%cython -+ -I . -c=-O3\n",
    "# cython: profile=True\n",
    "\n",
    "from libcpp.vector cimport vector\n",
    "import numpy as np\n",
    "cimport numpy as np\n",
    "\n",
    "cdef extern from \"cppanimal.h\":\n",
    "    cdef cppclass CppAnimal:\n",
    "        CppAnimal(double initial)\n",
    "        void mutate()\n",
    "        double fitness()\n",
    "        double state()\n",
    "\n",
    "cdef class CppPopulation:\n",
    "    cdef vector[CppAnimal] animals\n",
    "    \n",
    "    cpdef create_animal(self,double initial=0):\n",
    "        self.animals.push_back(CppAnimal(initial))\n",
    "    cpdef void do_step(self):\n",
    "        cdef int i, c\n",
    "        cdef np.ndarray[np.float_t,ndim=1] fitnesses = np.empty(self.animals.size(), dtype=np.float)\n",
    "        cdef vector[CppAnimal] born_animals\n",
    "        cdef np.ndarray[np.int_t,ndim=1] offspring, clones\n",
    "        cdef double c_state\n",
    "        \n",
    "        for i in range(self.animals.size()):\n",
    "            for _ in range(5):\n",
    "                self.animals[i].mutate()\n",
    "            fitnesses[i] = self.animals[i].fitness()\n",
    "        offspring = np.random.poisson(fitnesses / np.mean(fitnesses))\n",
    "        for i in range(self.animals.size()):\n",
    "            for k in range(offspring[i]):\n",
    "                born_animals.push_back(CppAnimal(self.animals[i].state()))\n",
    "        if born_animals.size() > self.animals.size():\n",
    "            clones = np.random.choice(np.arange(born_animals.size()), \n",
    "                                      born_animals.size() - self.animals.size(),\n",
    "                                      replace=False)\n",
    "            for c in clones:\n",
    "                born_animals.erase(born_animals.begin() + c)\n",
    "        else:\n",
    "            clones = np.random.choice(np.arange(self.animals.size()),\n",
    "                                      self.animals.size() - born_animals.size())\n",
    "            for c in clones:\n",
    "                born_animals.push_back(CppAnimal(self.animals[c].state()))\n",
    "        self.animals = born_animals\n",
    "            \n",
    "    cpdef list state(self):\n",
    "        cdef list state_list\n",
    "        cdef int i\n",
    "        state_list = []\n",
    "        for i in range(self.animals.size()):\n",
    "            state_list.append(self.animals[i].state())\n",
    "        return state_list"
   ]
  },
  {
   "cell_type": "code",
   "execution_count": 10,
   "metadata": {
    "collapsed": false
   },
   "outputs": [
    {
     "name": "stdout",
     "output_type": "stream",
     "text": [
      "10 loops, best of 3: 99.5 ms per loop\n",
      "100000\n"
     ]
    },
    {
     "data": {
      "image/png": "[encoded data removed]",
      "text/plain": [
       "<matplotlib.figure.Figure at 0x7f02378e9310>"
      ]
     },
     "metadata": {},
     "output_type": "display_data"
    }
   ],
   "source": [
    "population = CppPopulation()\n",
    "[population.create_animal() for _ in range(100000)]\n",
    "%timeit population.do_step()\n",
    "plt.hist(population.state())\n",
    "print(len(population.state()))"
   ]
  },
  {
   "cell_type": "code",
   "execution_count": 11,
   "metadata": {
    "collapsed": false
   },
   "outputs": [
    {
     "name": "stdout",
     "output_type": "stream",
     "text": [
      " \n",
      "*** Profile printout saved to text file u'profile'. \n",
      "         35 function calls in 0.088 seconds\n",
      "\n",
      "   Ordered by: internal time\n",
      "   List reduced from 22 to 10 due to restriction <10>\n",
      "\n",
      "   ncalls  tottime  percall  cumtime  percall filename:lineno(function)\n",
      "        1    0.088    0.088    0.088    0.088 _cython_magic_25dcf57a7137e4c774e379e203346f3e.pyx:19(do_step)\n",
      "        4    0.000    0.000    0.000    0.000 {method 'reduce' of 'numpy.ufunc' objects}\n",
      "        1    0.000    0.000    0.000    0.000 _methods.py:53(_mean)\n",
      "        1    0.000    0.000    0.000    0.000 fromnumeric.py:2433(prod)\n",
      "        1    0.000    0.000    0.000    0.000 _methods.py:43(_count_reduce_items)\n",
      "        3    0.000    0.000    0.000    0.000 numeric.py:484(asanyarray)\n",
      "        1    0.000    0.000    0.000    0.000 fromnumeric.py:2843(mean)\n",
      "        2    0.000    0.000    0.000    0.000 fromnumeric.py:1900(any)\n",
      "        1    0.000    0.000    0.088    0.088 <string>:1(<module>)\n",
      "        2    0.000    0.000    0.000    0.000 _internal.py:227(__init__)\n"
     ]
    }
   ],
   "source": [
    "%prun -l 10 -q -T profile population.do_step()\n",
    "with open(\"profile\",\"r\") as f:\n",
    "    print(f.read())"
   ]
  },
  {
   "cell_type": "markdown",
   "metadata": {},
   "source": [
    "Implementing the animal class in C++ and using C++-vectors as containers gives us a nice speedup from about 400 ms to 60 ms. My Cython code is also far from perfect, since it still has some Python interactions when calling the NumPy functions. You could probably create some lightning fast code if you also implemented those yourself in Cython or even C++.\n",
    "\n",
    "But, on the other hand, if you are able to write this code in Cython/C++ without using any Python interactions, why are you even using Python in the first place? Doing so eliminates most of the advantages that Python offers, so you might as well write your model entirely in C++, and just do the post-processing in Python. What if the design of the module was flawed from the very beginning? Let's start from scratch."
   ]
  },
  {
   "cell_type": "markdown",
   "metadata": {},
   "source": [
    "### Doing it the Python way"
   ]
  },
  {
   "cell_type": "markdown",
   "metadata": {},
   "source": [
    "My first impulse to represent animals and populations as instances of a class might make intuitive sense, but in the end, it is an abstraction that prevents us from writing *elegant* code. The approach was to loop over all animals and do things one-by-one. As we have seen in example 2, this is usually a really bad idea. After all, animals can just be represented by numbers - say, their genome, or a position in space, or a lifetime fitness. So, let's create a population that is just a structured array of numbers, with four fields:"
   ]
  },
  {
   "cell_type": "code",
   "execution_count": 12,
   "metadata": {
    "collapsed": true
   },
   "outputs": [],
   "source": [
    "def create_population(n):\n",
    "    pop = np.zeros(n, dtype=[('a','<f8'),('b','<f8'),('position','<i8'),('supergene','<f8')])\n",
    "    for f in pop.dtype.fields:\n",
    "        pop[f] = np.random.randn(n)*5\n",
    "    return pop"
   ]
  },
  {
   "cell_type": "code",
   "execution_count": 13,
   "metadata": {
    "collapsed": false
   },
   "outputs": [
    {
     "name": "stdout",
     "output_type": "stream",
     "text": [
      "[-5  3  2 -1  4 -2  0 -3  1  2]\n",
      "[  5.2386145   -4.46564777   2.67072887  -7.59499018   6.97302314\n",
      "   4.16067989  -5.04081742  -0.68920514  11.86430644   8.04570278]\n"
     ]
    }
   ],
   "source": [
    "pop = create_population(10)\n",
    "print(pop[\"position\"])\n",
    "print(pop[\"supergene\"])"
   ]
  },
  {
   "cell_type": "markdown",
   "metadata": {},
   "source": [
    "The NumPy interface allows us to operate *on the whole population at once*:"
   ]
  },
  {
   "cell_type": "code",
   "execution_count": 14,
   "metadata": {
    "collapsed": true
   },
   "outputs": [],
   "source": [
    "def mutate(population):\n",
    "    n = len(population)\n",
    "    population[\"a\"] += np.random.randn(n)\n",
    "    population[\"b\"] += 2.5*np.random.randn(n) + 0.25\n",
    "    population[\"supergene\"] += np.random.randn(n)\n",
    "    population[\"position\"] += np.random.randint(-1,2,size=n)\n",
    "    \n",
    "def fitness(population):\n",
    "    fit_fun = lambda x,t: np.exp(-np.power(population[x]-t,2))\n",
    "    return fit_fun(\"a\",15) + fit_fun(\"b\",2.5) \\\n",
    "             + fit_fun(\"supergene\",10) + fit_fun(\"position\",0)\n",
    "\n",
    "def do_step(population):\n",
    "    n = len(population)\n",
    "    for _ in range(5):\n",
    "        mutate(population)\n",
    "    fitnesses = fitness(population)\n",
    "    offspring = np.random.poisson(fitnesses / np.mean(fitnesses))\n",
    "    population = np.repeat(population,offspring)\n",
    "    if len(population) > n:\n",
    "        population = np.random.choice(population,n,replace=False)\n",
    "    elif len(population) < n:\n",
    "        clones = np.random.choice(np.arange(len(population)),\n",
    "                                  n-len(population),replace=False)\n",
    "        clone_rep = np.ones(len(population), dtype=np.int)\n",
    "        clone_rep[clones] = 2\n",
    "        population = np.repeat(population,clone_rep)\n",
    "    return population"
   ]
  },
  {
   "cell_type": "markdown",
   "metadata": {},
   "source": [
    "Just look at the sheer length of this code, compared to the complicated implementations above. If you want, you can also put those functions into a population class that holds the animals as a member array to keep your namespace clean.\n",
    "\n",
    "Representing the population as a structured array also allows for nice interactions with other Python packages (here Pandas and Seaborn):"
   ]
  },
  {
   "cell_type": "code",
   "execution_count": 15,
   "metadata": {
    "collapsed": false
   },
   "outputs": [
    {
     "data": {
      "image/png": "[encoded data removed]",
      "text/plain": [
       "<matplotlib.figure.Figure at 0x7f023594c450>"
      ]
     },
     "metadata": {},
     "output_type": "display_data"
    }
   ],
   "source": [
    "pop = create_population(100000)\n",
    "for _ in range(10):\n",
    "    pop = do_step(pop)\n",
    "sns.violinplot(data=pd.DataFrame(pop));"
   ]
  },
  {
   "cell_type": "markdown",
   "metadata": {},
   "source": [
    "And, finally, let's have a look at performance:"
   ]
  },
  {
   "cell_type": "code",
   "execution_count": 16,
   "metadata": {
    "collapsed": false
   },
   "outputs": [
    {
     "name": "stdout",
     "output_type": "stream",
     "text": [
      "1 loop, best of 3: 202 ms per loop\n"
     ]
    }
   ],
   "source": [
    "pop = create_population(100000)\n",
    "%timeit do_step(pop)"
   ]
  },
  {
   "cell_type": "markdown",
   "metadata": {},
   "source": [
    "So, completely un-optimized Python code with *four genes instead of one* is only slower by a factor of two than the C++/Cython implementation before. What do we learn from that?"
   ]
  },
  {
   "cell_type": "markdown",
   "metadata": {},
   "source": [
    "#### Bottom line: don't be stupid™\n",
    "\n",
    "- Don't get carried away by unnecessary abstraction. Think in terms of clusters, not single objects.\n",
    "- Don't try to apply low-level logic to high-level languages. Chances are, you will make your life miserable.\n",
    "- Before optimizing a solution, ask yourself whether your abstraction makes sense.\n",
    "- Use the tools that you are given (in this case NumPy). There are lots of developers thinking about low-level implementations so you don't have to (that's why we all like Python, remember).\n",
    "\n",
    "That concludes this example, and this series. Thank you for reading, and don't hesitate to contact me if you have questions or if you have a suggestion on how to improve my code. I'm always happy to learn."
   ]
  }
 ],
 "metadata": {
  "kernelspec": {
   "display_name": "Python 2",
   "language": "python",
   "name": "python2"
  },
  "language_info": {
   "codemirror_mode": {
    "name": "ipython",
    "version": 2
   },
   "file_extension": ".py",
   "mimetype": "text/x-python",
   "name": "python",
   "nbconvert_exporter": "python",
   "pygments_lexer": "ipython2",
   "version": "2.7.12+"
  }
 },
 "nbformat": 4,
 "nbformat_minor": 1
}
