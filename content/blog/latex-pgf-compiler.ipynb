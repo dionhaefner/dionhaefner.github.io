{
 "cells": [
  {
   "cell_type": "markdown",
   "metadata": {},
   "source": [
    "```latex\n",
    "\\makeatletter\n",
    "\\edef\\@figdir{_figurecache}\n",
    "\\edef\\@pgfrootdir{figures}\n",
    "\\newcommand\\setpgfroot[1]{\\def\\@pgfrootdir{#1}}\n",
    "\\let\\oldpgfimage\\pgfimage\n",
    "\\renewcommand{\\pgfimage}[2][]{\\oldpgfimage[#1]{\\@pgfrootdir/#2}}\n",
    "\n",
    "\\newcommand{\\@pgfpreamble}[1]{%\n",
    "\t\\unexpanded{%\n",
    "\t\t\\documentclass[class=dionsthesis]{standalone}^^J\n",
    "\t\t\\setpgfroot{#1}%\n",
    "\t}%\n",
    "}\n",
    "\n",
    "\\newcounter{@pgfcounter}\n",
    "\\newwrite\\@pgfout\n",
    "\\newread\\@pgfin\n",
    "\n",
    "\\newcommand{\\importpgf}[3][]{%\n",
    "\t\\IfFileExists{#2/#3}{}{\\ClassError{dionsthesis}{importpgf: File not found}{File #2/#3 not found}}%\n",
    "\t\\edef\\@figfile{\\jobname-\\the@pgfcounter}%\n",
    "\t\\providecommand{\\@writetempfile}{}%\n",
    "\t\\renewcommand{\\@writetempfile}[1]%\n",
    "\t{%\n",
    "\t\t\\immediate\\openout\\@pgfout=##1%\n",
    "\t\t\\immediate\\write\\@pgfout{\\@pgfpreamble{#2}}%\n",
    "\t\t\\immediate\\write\\@pgfout{\\string\\\\begin{document}}%\n",
    "\t\t\\immediate\\openin\\@pgfin=#2/#3%\n",
    "\t\t\\begingroup\\endlinechar=-1%\n",
    "\t\t\t\\loop\\unless\\ifeof\\@pgfin%\n",
    "\t\t\t\t\\readline\\@pgfin to \\@fileline%\n",
    "\t\t\t\t\\ifx\\@fileline\\@empty\\else%\n",
    "\t\t\t\t\t\\immediate\\write\\@pgfout{\\@fileline}%\n",
    "\t\t\t\t\\fi%\n",
    "\t\t\t\\repeat%\n",
    "\t\t\\endgroup%\n",
    "\t\t\\immediate\\closein\\@pgfin%\n",
    "\t\t\\immediate\\write\\@pgfout{\\string\\end{document}}%\n",
    "\t\t\\immediate\\closeout\\@pgfout%\n",
    "\t}%\n",
    "\t\\def\\@compile%\n",
    "\t{%\n",
    "\t\t\\immediate\\write18{pdflatex -interaction=batchmode -output-directory=\"\\@figdir\" \\@figdir/\\@figfile.tex}%\n",
    "\t}%\n",
    "\t\\IfFileExists{\\@figdir/\\@figfile.pdf}%\n",
    "\t{%\n",
    "\t\t\\@writetempfile{\\@figdir/tmp.tex}%\n",
    "\t\t\\edef\\@hashold{\\pdfmdfivesum file {\\@figdir/\\@figfile.tex}}%\n",
    "\t\t\\edef\\@hashnew{\\pdfmdfivesum file {\\@figdir/tmp.tex}}%\n",
    "\t\t\\ifnum\\pdfstrcmp{\\@hashold}{\\@hashnew}=0%\n",
    "\t\t\t\\relax%\n",
    "\t\t\\else%\n",
    "\t\t\t\\@writetempfile{\\@figdir/\\@figfile.tex}%\n",
    "\t\t\t\\@compile%\n",
    "\t\t\\fi%\n",
    "\t}%\n",
    "\t{%\n",
    "\t\t\\@writetempfile{\\@figdir/\\@figfile.tex}%\n",
    "\t\t\\@compile%\n",
    "\t}%\n",
    "\t\\IfFileExists{\\@figdir/\\@figfile.pdf}%\n",
    "\t{\\includegraphics[#1]{\\@figdir/\\@figfile.pdf}}%\n",
    "\t{\\errmessage{Error during compilation of figure #2/#3}}%\n",
    "\t\\stepcounter{@pgfcounter}%\n",
    "}\n",
    "\\makeatother\n",
    "```"
   ]
  },
  {
   "cell_type": "markdown",
   "metadata": {},
   "source": [
    "You can use it like so:\n",
    "\n",
    "```latex\n",
    "\\begin{figure}\n",
    "    \\importpgf{path/to/figure}{figure.pgf}\n",
    "\\end{figure}\n",
    "```\n",
    "\n",
    "and make sure to compile your file with the flag `-shell-escape` (otherwise, `pdflatex` cannot be called to compile your figures)."
   ]
  },
  {
   "cell_type": "markdown",
   "metadata": {},
   "source": [
    "Note that I'm not exactly a LaTeX-pro, so I can't give any guarantee that this works in any situation, or that the implementation is optimal. Also note that this doesn't detect whether your figures were compiled successfully, so if you get a cryptic error message or the comiler hangs, make sure that your figures compile properly, and delete the `_figurecache` folder."
   ]
  },
  {
   "cell_type": "markdown",
   "metadata": {},
   "source": [
    "### How does it work?\n",
    "\n",
    "When encountering the command `\\importpgf`, LaTeX looks up the given file, and writes its contents, along with the preamble from the command `\\@pgfpreamble`, into a temporary file. The command calculates the MD5 checksum of this temporary file and, if it exists, of a corresponding `.tex` file for the given figure that was written during a previous compilation using `\\importpgf`. If the hash matches, the command just returns the PDF file corresponding to the `.tex` file with `\\includegraphics`. Otherwise, the `.tex` file is overwritten with the temporary file, compiled to a PDF, and then returned with `\\includegraphics`. Because of that, the first compilation may take a lot of time (all figures are compiled to PDF one-by-one), but the following compilations should be fast if you don't change any of the figures.\n",
    "\n",
    "The code worked fine on my setup (Ubuntu 16.04 with TexLive), but I didn't test it on any non-Linux machines, so your mileage may vary. If you run into problems, feel free to contact me."
   ]
  },
  {
   "cell_type": "code",
   "execution_count": null,
   "metadata": {
    "collapsed": true
   },
   "outputs": [],
   "source": []
  }
 ],
 "metadata": {
  "kernelspec": {
   "display_name": "Python 2",
   "language": "python",
   "name": "python2"
  },
  "language_info": {
   "codemirror_mode": {
    "name": "ipython",
    "version": 2
   },
   "file_extension": ".py",
   "mimetype": "text/x-python",
   "name": "python",
   "nbconvert_exporter": "python",
   "pygments_lexer": "ipython2",
   "version": "2.7.12+"
  }
 },
 "nbformat": 4,
 "nbformat_minor": 1
}
